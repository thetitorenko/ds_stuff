{
 "cells": [
  {
   "attachments": {},
   "cell_type": "markdown",
   "metadata": {},
   "source": [
    "## <a name=\"normal_check\"></a> Normal test"
   ]
  },
  {
   "cell_type": "code",
   "execution_count": null,
   "metadata": {},
   "outputs": [],
   "source": [
    "from scipy.stats import shapiro\n",
    "\n",
    "h0 = 'Данные распределены нормально'\n",
    "h1 = 'Данные не распределены нормально (мы отвергаем H0)'\n",
    "alpha = 0.05\t# Уровень значимости\n",
    "\n",
    "_, p = shapiro(data)\n",
    "\n",
    "if p > alpha:\n",
    "\tprint(h0)\n",
    "else:\n",
    "\tprint(h1)"
   ]
  }
 ],
 "metadata": {
  "kernelspec": {
   "display_name": "Python 3",
   "language": "python",
   "name": "python3"
  },
  "language_info": {
   "name": "python",
   "version": "3.11.0 (main, Oct 24 2022, 18:26:48) [MSC v.1933 64 bit (AMD64)]"
  },
  "orig_nbformat": 4,
  "vscode": {
   "interpreter": {
    "hash": "0ef7447a267776da23941461c7882481031a874f2a577a1d45a6f4928fd42c96"
   }
  }
 },
 "nbformat": 4,
 "nbformat_minor": 2
}

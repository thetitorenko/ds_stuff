{
 "cells": [
  {
   "attachments": {},
   "cell_type": "markdown",
   "metadata": {},
   "source": [
    "# Data cleaning"
   ]
  },
  {
   "attachments": {},
   "cell_type": "markdown",
   "metadata": {},
   "source": [
    "Tool for automatic visualization and presentation of the dataset"
   ]
  },
  {
   "cell_type": "code",
   "execution_count": 40,
   "metadata": {},
   "outputs": [
    {
     "ename": "ModuleNotFoundError",
     "evalue": "No module named 'dtale'",
     "output_type": "error",
     "traceback": [
      "\u001b[1;31m---------------------------------------------------------------------------\u001b[0m",
      "\u001b[1;31mModuleNotFoundError\u001b[0m                       Traceback (most recent call last)",
      "\u001b[1;32m~\\AppData\\Local\\Temp\\ipykernel_8524\\3456748503.py\u001b[0m in \u001b[0;36m<module>\u001b[1;34m\u001b[0m\n\u001b[0;32m      1\u001b[0m \u001b[1;32mimport\u001b[0m \u001b[0mpandas\u001b[0m \u001b[1;32mas\u001b[0m \u001b[0mpd\u001b[0m\u001b[1;33m\u001b[0m\u001b[1;33m\u001b[0m\u001b[0m\n\u001b[1;32m----> 2\u001b[1;33m \u001b[1;32mimport\u001b[0m \u001b[0mdtale\u001b[0m\u001b[1;33m\u001b[0m\u001b[1;33m\u001b[0m\u001b[0m\n\u001b[0m\u001b[0;32m      3\u001b[0m \u001b[1;33m\u001b[0m\u001b[0m\n\u001b[0;32m      4\u001b[0m \u001b[0mdf\u001b[0m \u001b[1;33m=\u001b[0m \u001b[0mpd\u001b[0m\u001b[1;33m.\u001b[0m\u001b[0mread_csv\u001b[0m\u001b[1;33m(\u001b[0m\u001b[1;34m'wine.csv'\u001b[0m\u001b[1;33m)\u001b[0m\u001b[1;33m\u001b[0m\u001b[1;33m\u001b[0m\u001b[0m\n\u001b[0;32m      5\u001b[0m \u001b[0md\u001b[0m \u001b[1;33m=\u001b[0m \u001b[0mdtale\u001b[0m\u001b[1;33m.\u001b[0m\u001b[0mshow\u001b[0m\u001b[1;33m(\u001b[0m\u001b[0mdf\u001b[0m\u001b[1;33m)\u001b[0m\u001b[1;33m\u001b[0m\u001b[1;33m\u001b[0m\u001b[0m\n",
      "\u001b[1;31mModuleNotFoundError\u001b[0m: No module named 'dtale'"
     ]
    }
   ],
   "source": [
    "import pandas as pd\n",
    "import dtale\n",
    "\n",
    "df = pd.read_csv('wine.csv')\n",
    "d = dtale.show(df)\n",
    "d"
   ]
  },
  {
   "attachments": {},
   "cell_type": "markdown",
   "metadata": {},
   "source": [
    "## Duplicates"
   ]
  },
  {
   "cell_type": "code",
   "execution_count": 41,
   "metadata": {},
   "outputs": [
    {
     "data": {
      "text/html": [
       "<div>\n",
       "<style scoped>\n",
       "    .dataframe tbody tr th:only-of-type {\n",
       "        vertical-align: middle;\n",
       "    }\n",
       "\n",
       "    .dataframe tbody tr th {\n",
       "        vertical-align: top;\n",
       "    }\n",
       "\n",
       "    .dataframe thead th {\n",
       "        text-align: right;\n",
       "    }\n",
       "</style>\n",
       "<table border=\"1\" class=\"dataframe\">\n",
       "  <thead>\n",
       "    <tr style=\"text-align: right;\">\n",
       "      <th></th>\n",
       "      <th>brand</th>\n",
       "      <th>style</th>\n",
       "      <th>rating</th>\n",
       "    </tr>\n",
       "  </thead>\n",
       "  <tbody>\n",
       "    <tr>\n",
       "      <th>0</th>\n",
       "      <td>Yum Yum</td>\n",
       "      <td>cup</td>\n",
       "      <td>4.0</td>\n",
       "    </tr>\n",
       "    <tr>\n",
       "      <th>1</th>\n",
       "      <td>Yum Yum</td>\n",
       "      <td>cup</td>\n",
       "      <td>4.0</td>\n",
       "    </tr>\n",
       "    <tr>\n",
       "      <th>2</th>\n",
       "      <td>Indomie</td>\n",
       "      <td>cup</td>\n",
       "      <td>3.5</td>\n",
       "    </tr>\n",
       "    <tr>\n",
       "      <th>3</th>\n",
       "      <td>Indomie</td>\n",
       "      <td>pack</td>\n",
       "      <td>15.0</td>\n",
       "    </tr>\n",
       "    <tr>\n",
       "      <th>4</th>\n",
       "      <td>Indomie</td>\n",
       "      <td>pack</td>\n",
       "      <td>5.0</td>\n",
       "    </tr>\n",
       "  </tbody>\n",
       "</table>\n",
       "</div>"
      ],
      "text/plain": [
       "     brand style  rating\n",
       "0  Yum Yum   cup     4.0\n",
       "1  Yum Yum   cup     4.0\n",
       "2  Indomie   cup     3.5\n",
       "3  Indomie  pack    15.0\n",
       "4  Indomie  pack     5.0"
      ]
     },
     "metadata": {},
     "output_type": "display_data"
    },
    {
     "data": {
      "text/html": [
       "<div>\n",
       "<style scoped>\n",
       "    .dataframe tbody tr th:only-of-type {\n",
       "        vertical-align: middle;\n",
       "    }\n",
       "\n",
       "    .dataframe tbody tr th {\n",
       "        vertical-align: top;\n",
       "    }\n",
       "\n",
       "    .dataframe thead th {\n",
       "        text-align: right;\n",
       "    }\n",
       "</style>\n",
       "<table border=\"1\" class=\"dataframe\">\n",
       "  <thead>\n",
       "    <tr style=\"text-align: right;\">\n",
       "      <th></th>\n",
       "      <th>brand</th>\n",
       "      <th>style</th>\n",
       "      <th>rating</th>\n",
       "    </tr>\n",
       "  </thead>\n",
       "  <tbody>\n",
       "    <tr>\n",
       "      <th>0</th>\n",
       "      <td>Yum Yum</td>\n",
       "      <td>cup</td>\n",
       "      <td>4.0</td>\n",
       "    </tr>\n",
       "    <tr>\n",
       "      <th>2</th>\n",
       "      <td>Indomie</td>\n",
       "      <td>cup</td>\n",
       "      <td>3.5</td>\n",
       "    </tr>\n",
       "    <tr>\n",
       "      <th>3</th>\n",
       "      <td>Indomie</td>\n",
       "      <td>pack</td>\n",
       "      <td>15.0</td>\n",
       "    </tr>\n",
       "    <tr>\n",
       "      <th>4</th>\n",
       "      <td>Indomie</td>\n",
       "      <td>pack</td>\n",
       "      <td>5.0</td>\n",
       "    </tr>\n",
       "  </tbody>\n",
       "</table>\n",
       "</div>"
      ],
      "text/plain": [
       "     brand style  rating\n",
       "0  Yum Yum   cup     4.0\n",
       "2  Indomie   cup     3.5\n",
       "3  Indomie  pack    15.0\n",
       "4  Indomie  pack     5.0"
      ]
     },
     "metadata": {},
     "output_type": "display_data"
    }
   ],
   "source": [
    "import pandas as pd\n",
    "\n",
    "df = pd.DataFrame({\n",
    "    'brand': ['Yum Yum', 'Yum Yum', 'Indomie', 'Indomie', 'Indomie'],\n",
    "    'style': ['cup', 'cup', 'cup', 'pack', 'pack'],\n",
    "    'rating': [4, 4, 3.5, 15, 5]\n",
    "    })\n",
    "display(df)\n",
    "\n",
    "mask = df.duplicated()\n",
    "duplicated_df = df[mask]                # df with duplicates\n",
    "deduplicated_df = df.drop_duplicates()  # df without duplicates\n",
    "display(deduplicated_df)"
   ]
  },
  {
   "attachments": {},
   "cell_type": "markdown",
   "metadata": {},
   "source": [
    "### Non-informative feature"
   ]
  },
  {
   "attachments": {},
   "cell_type": "markdown",
   "metadata": {},
   "source": [
    "A feature containing more than 95% of unique elements or a feature containing more than 95% of identical elements."
   ]
  },
  {
   "cell_type": "code",
   "execution_count": 42,
   "metadata": {},
   "outputs": [
    {
     "name": "stdout",
     "output_type": "stream",
     "text": [
      "'description' contained 96.0% uniques elements\n",
      "'title' contained 96.0% uniques elements\n"
     ]
    },
    {
     "data": {
      "text/plain": [
       "['description', 'title']"
      ]
     },
     "execution_count": 42,
     "metadata": {},
     "output_type": "execute_result"
    }
   ],
   "source": [
    "import pandas as pd\n",
    "\n",
    "df = pd.read_csv('data/wine.csv')\n",
    "\n",
    "def get_low_info_cols(\n",
    "   data: pd.DataFrame, thresh: int=95,\n",
    "   exclude: list=None, verbose: bool=False) -> list:\n",
    "   \"\"\"Get the list of columns with non-informative \n",
    "   threshold in DataFrame with verbose printing.\n",
    "\n",
    "   Args:\n",
    "      data: DataFrame;\n",
    "      thresh: Threshold of non-information in percent. Defaults to 95;\n",
    "      exclude: String or list of names of excluded columns. Defaults to None;\n",
    "      verbose (bool): verbose printing.\n",
    "\n",
    "   Returns:\n",
    "      list: List of non-informative columns (features) satisfying a given threshold.\n",
    "   \"\"\"\n",
    "   thresh = thresh / 100\n",
    "   if exclude is None:\n",
    "      cols = data.columns\n",
    "   else:\n",
    "      cols = list(data.drop(exclude, axis=1).columns)\n",
    "\n",
    "   low_info_cols = []\n",
    "\n",
    "   for col in cols:\n",
    "      unique_ratio = data[col].nunique() / data[col].count()\n",
    "      top_freq = data[col].value_counts(normalize=True).max()\n",
    "      if unique_ratio > thresh:\n",
    "         low_info_cols.append(col)\n",
    "         if verbose:\n",
    "            print(f\"'{col}' contained {round(unique_ratio, 2)*100}% uniques elements\")\n",
    "      if top_freq > thresh:\n",
    "         low_info_cols.append(col)\n",
    "         if verbose:\n",
    "            print(f\"'{col}' contained {round(top_freq, 2)*100}% identical elements\")\n",
    "\n",
    "   return low_info_cols\n",
    "\n",
    "\n",
    "get_low_info_cols(df, verbose=True)"
   ]
  },
  {
   "attachments": {},
   "cell_type": "markdown",
   "metadata": {},
   "source": [
    "### Outliers"
   ]
  },
  {
   "attachments": {},
   "cell_type": "markdown",
   "metadata": {},
   "source": [
    "Interquartile range (IQR) or Tukey's method"
   ]
  },
  {
   "cell_type": "code",
   "execution_count": 43,
   "metadata": {},
   "outputs": [
    {
     "name": "stdout",
     "output_type": "stream",
     "text": [
      "Number of outliers in the price feature: 3625\n"
     ]
    }
   ],
   "source": [
    "import pandas as pd\n",
    "import numpy as np\n",
    "\n",
    "df = pd.read_csv('data/wine.csv')\n",
    "\n",
    "def get_outliers_iqr(\n",
    "    data: pd.DataFrame, feature: str,\n",
    "    left: float=1.5, right: float=1.5,\n",
    "    log_scale: bool=False, n: int=0) -> tuple:\n",
    "    \"\"\"Search outlines by Tukey's method in given features scope\n",
    "\n",
    "    Args:\n",
    "        data: Source DataFrame;\n",
    "        feature: Feature or list of features;\n",
    "        left: Lower bound of the method. Defaults to 3;\n",
    "        right: Upper bound of the method. Defaults to 3;\n",
    "        log_scale: Should feature(s) be in logarithmic view. Defaults to False;\n",
    "        n: If feature(s) contain values lower than zero. Defaults to 0;\n",
    "\n",
    "    Returns:\n",
    "        tuple: Tuple contain DataFrame with all found outliers and cleaned DataFrame\n",
    "    \"\"\"\n",
    "    if log_scale:\n",
    "        x = np.log(data[feature] + n)\n",
    "    else:\n",
    "        x = data[feature]\n",
    "\n",
    "    qaurtile1 = x.quantile(0.25)\n",
    "    qaurtile3 = x.quantile(0.75)\n",
    "    iqr = qaurtile3 - qaurtile1\n",
    "    lower_bound = qaurtile1 - (left * iqr)\n",
    "    upper_bound = qaurtile3 + (right * iqr)\n",
    "    outliers = data[(x < lower_bound) | (x > upper_bound)]\n",
    "    cleaned = data[(x > lower_bound) & (x < upper_bound)]\n",
    "\n",
    "    return outliers, cleaned\n",
    "\n",
    "\n",
    "outliers, cleaned = get_outliers_iqr(df, 'price')\n",
    "outliers, cleaned = get_outliers_iqr(df, 'price')\n",
    "print(f\"Number of outliers in the price feature: {outliers.shape[0]}\")"
   ]
  },
  {
   "attachments": {},
   "cell_type": "markdown",
   "metadata": {},
   "source": [
    "Z-scores or Sigma level method"
   ]
  },
  {
   "cell_type": "code",
   "execution_count": 44,
   "metadata": {},
   "outputs": [
    {
     "name": "stdout",
     "output_type": "stream",
     "text": [
      "Number of outliers in the price feature: 102\n"
     ]
    }
   ],
   "source": [
    "import pandas as pd\n",
    "import numpy as np\n",
    "\n",
    "df = pd.read_csv('data/wine.csv')\n",
    "\n",
    "def get_outliers_z_score(\n",
    "    data: pd.DataFrame, feature: str,\n",
    "    left: float=3, right: float=3,\n",
    "    log_scale: bool=False, n: int=0) -> tuple:\n",
    "    \"\"\"Search outlines by z-deviations (3-sigma) method in source DataFrame in given features scope\n",
    "\n",
    "    Args:\n",
    "        data (pd.DataFrame): Source DataFrame\n",
    "        feature (str): Feature or list of features\n",
    "        left (float, optional): Lower bound of the method. Defaults to 3.\n",
    "        right (float, optional): Upper bound of the method. Defaults to 3.\n",
    "        log_scale (bool, optional): Should feature(s) be in logarithmic view. Defaults to False.\n",
    "        n (int, optional): If feature(s) contain values lower than zero. Defaults to 0.\n",
    "\n",
    "    Returns:\n",
    "        tuple: Tuple contain DataFrame with all found outliers and cleaned DataFrame\n",
    "    \"\"\"\n",
    "    if log_scale:\n",
    "        x = np.log(data[feature] + n)\n",
    "    else:\n",
    "        x = data[feature]\n",
    "    mu = x.mean()\n",
    "    sigma = x.std()\n",
    "    lower_bound = mu - (left * sigma)\n",
    "    upper_bound = mu + (right * sigma)\n",
    "    outliers = data[(x < lower_bound) | (x > upper_bound)]\n",
    "    cleaned = data[(x > lower_bound) & (x < upper_bound)]\n",
    "    return outliers, cleaned\n",
    "\n",
    "\n",
    "outliers, hh_data = get_outliers_z_score(df, 'price', right=4, log_scale=True)\n",
    "print(f\"Number of outliers in the price feature: {outliers.shape[0]}\")"
   ]
  },
  {
   "attachments": {},
   "cell_type": "markdown",
   "metadata": {},
   "source": [
    "### Missing values (NaNs)"
   ]
  },
  {
   "attachments": {},
   "cell_type": "markdown",
   "metadata": {},
   "source": [
    "Visualization of NaNs via heatmap."
   ]
  },
  {
   "cell_type": "code",
   "execution_count": 45,
   "metadata": {},
   "outputs": [
    {
     "data": {
      "image/png": "[encoded data removed]",
      "text/plain": [
       "<Figure size 640x480 with 2 Axes>"
      ]
     },
     "metadata": {},
     "output_type": "display_data"
    }
   ],
   "source": [
    "import pandas as pd\n",
    "import seaborn as sns\n",
    "\n",
    "df = pd.read_csv('data/wine.csv')\n",
    "\n",
    "sns.heatmap(df.isnull());"
   ]
  },
  {
   "attachments": {},
   "cell_type": "markdown",
   "metadata": {},
   "source": [
    "Getting the list of features with NaNs."
   ]
  },
  {
   "cell_type": "code",
   "execution_count": 46,
   "metadata": {},
   "outputs": [
    {
     "name": "stdout",
     "output_type": "stream",
     "text": [
      "Features with NaNs and the percentage of it:\n",
      "region_2                 61.117779\n",
      "designation              28.573847\n",
      "taster_twitter_handle    24.154433\n",
      "taster_name              20.275136\n",
      "region_1                 16.375835\n",
      "price                     6.924568\n",
      "country                   0.052319\n",
      "province                  0.052319\n",
      "variety                   0.001539\n",
      "dtype: float64\n"
     ]
    }
   ],
   "source": [
    "import pandas as pd\n",
    "\n",
    "df = pd.read_csv('data/wine.csv')\n",
    "df.drop_duplicates()\n",
    "\n",
    "percent_of_nulls = df.isnull().mean()*100\n",
    "features_with_nans = percent_of_nulls[percent_of_nulls > 0].sort_values(ascending=False)\n",
    "\n",
    "print('Features with NaNs and the percentage of it:', features_with_nans, sep='\\n')"
   ]
  },
  {
   "attachments": {},
   "cell_type": "markdown",
   "metadata": {},
   "source": [
    "Drop features with NaNs of more than 30% and entires with at least one NaN."
   ]
  },
  {
   "cell_type": "code",
   "execution_count": 47,
   "metadata": {},
   "outputs": [
    {
     "name": "stdout",
     "output_type": "stream",
     "text": [
      "(62473, 13) (24999, 12)\n"
     ]
    }
   ],
   "source": [
    "df = pd.read_csv('data/wine.csv')\n",
    "df = df.drop_duplicates()\n",
    "drop_df = df.copy()\n",
    "\n",
    "thresh = df.shape[0] * 0.7                      # 100-70 = 30%\n",
    "\n",
    "drop_df = drop_df.dropna(thresh=thresh, axis=1) # Drop features\n",
    "drop_df = drop_df.dropna()                      # Drop entries\n",
    "\n",
    "print(df.shape, drop_df.shape)"
   ]
  },
  {
   "attachments": {},
   "cell_type": "markdown",
   "metadata": {},
   "source": [
    "Filling NaNs with values. Numerical feature by `mean` _(cause it has lognormal distribution)_. Categorical with a large number of NaNs - _'unknown'_, the rest - `mode`."
   ]
  },
  {
   "cell_type": "code",
   "execution_count": 48,
   "metadata": {},
   "outputs": [],
   "source": [
    "values = {\n",
    "    'designation': 'unknown',\n",
    "    'taster_twitter_handle': 'unknown',\n",
    "    'taster_name': 'unknown',\n",
    "    'region_1': 'unknown',\n",
    "    'country': df['country'].mode()[0],\n",
    "    'province': df['province'].mode()[0],\n",
    "    'variety': df['variety'].mode()[0],\n",
    "    'price': df['price'].mean()}\n",
    "\n",
    "df = df.fillna(value=values)"
   ]
  }
 ],
 "metadata": {
  "kernelspec": {
   "display_name": "base",
   "language": "python",
   "name": "python3"
  },
  "language_info": {
   "codemirror_mode": {
    "name": "ipython",
    "version": 3
   },
   "file_extension": ".py",
   "mimetype": "text/x-python",
   "name": "python",
   "nbconvert_exporter": "python",
   "pygments_lexer": "ipython3",
   "version": "3.9.13"
  },
  "orig_nbformat": 4,
  "vscode": {
   "interpreter": {
    "hash": "d2294e7ecb0fcd6fd805aaf96fa99fd1821aa453b31a5a8300db016a8fb4c516"
   }
  }
 },
 "nbformat": 4,
 "nbformat_minor": 2
}

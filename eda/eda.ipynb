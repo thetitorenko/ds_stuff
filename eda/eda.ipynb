{
 "cells": [
  {
   "attachments": {},
   "cell_type": "markdown",
   "metadata": {},
   "source": [
    "# EDA"
   ]
  },
  {
   "attachments": {},
   "cell_type": "markdown",
   "metadata": {},
   "source": [
    "## Descriptive statistics"
   ]
  },
  {
   "cell_type": "code",
   "execution_count": 47,
   "metadata": {},
   "outputs": [
    {
     "name": "stdout",
     "output_type": "stream",
     "text": [
      "mean: 89\n",
      "median: 89.5\n",
      "median_low: 87\n",
      "median_high: 92\n",
      "mode: California\n",
      "mode: California\n"
     ]
    }
   ],
   "source": [
    "import pandas as pd\n",
    "import statistics\n",
    "import numpy as np\n",
    "\n",
    "array_ = np.array([80, 83, 87, 92, 95, 98])\n",
    "print('mean:', statistics.mean(array_))\n",
    "print('median:', statistics.median(array_))\n",
    "print('median_low:', statistics.median_low(array_))\n",
    "print('median_high:', statistics.median_high(array_))\n",
    "\n",
    "df = pd.read_csv('data/wine_cleared.csv')\n",
    "print('mode:', statistics.mode(df['province']))  # Raise error if more than one\n",
    "print('mode:', statistics.mode(df['province']))  # Return list if more than one"
   ]
  },
  {
   "attachments": {},
   "cell_type": "markdown",
   "metadata": {},
   "source": [
    "## Multivariate analysis (Correlation)"
   ]
  },
  {
   "attachments": {},
   "cell_type": "markdown",
   "metadata": {},
   "source": [
    "Correlation coefficient | Correlation strength\n",
    "---|---\n",
    "-/+ (0 to 0.3) | Weak\n",
    "-/+ (0.3 to 0.5) | Moderate\n",
    "-/+ (0.5 to 0.7) | Strong\n",
    "-/+ (0.7 to 1) | Very strong (***multicollinearity***)"
   ]
  },
  {
   "cell_type": "code",
   "execution_count": 50,
   "metadata": {},
   "outputs": [
    {
     "data": {
      "text/html": [
       "<div>\n",
       "<style scoped>\n",
       "    .dataframe tbody tr th:only-of-type {\n",
       "        vertical-align: middle;\n",
       "    }\n",
       "\n",
       "    .dataframe tbody tr th {\n",
       "        vertical-align: top;\n",
       "    }\n",
       "\n",
       "    .dataframe thead th {\n",
       "        text-align: right;\n",
       "    }\n",
       "</style>\n",
       "<table border=\"1\" class=\"dataframe\">\n",
       "  <thead>\n",
       "    <tr style=\"text-align: right;\">\n",
       "      <th></th>\n",
       "      <th>points</th>\n",
       "      <th>price</th>\n",
       "    </tr>\n",
       "  </thead>\n",
       "  <tbody>\n",
       "    <tr>\n",
       "      <th>points</th>\n",
       "      <td>1.0000</td>\n",
       "      <td>0.4111</td>\n",
       "    </tr>\n",
       "    <tr>\n",
       "      <th>price</th>\n",
       "      <td>0.4111</td>\n",
       "      <td>1.0000</td>\n",
       "    </tr>\n",
       "  </tbody>\n",
       "</table>\n",
       "</div>"
      ],
      "text/plain": [
       "        points   price\n",
       "points  1.0000  0.4111\n",
       "price   0.4111  1.0000"
      ]
     },
     "execution_count": 50,
     "metadata": {},
     "output_type": "execute_result"
    }
   ],
   "source": [
    "import pandas as pd\n",
    "\n",
    "df = pd.read_csv('data/wine_cleared.csv')\n",
    "\n",
    "# For normal (Gaussian) distribution numeric features\n",
    "df.corr(method='pearson')"
   ]
  },
  {
   "cell_type": "code",
   "execution_count": 57,
   "metadata": {},
   "outputs": [
    {
     "data": {
      "text/html": [
       "<div>\n",
       "<style scoped>\n",
       "    .dataframe tbody tr th:only-of-type {\n",
       "        vertical-align: middle;\n",
       "    }\n",
       "\n",
       "    .dataframe tbody tr th {\n",
       "        vertical-align: top;\n",
       "    }\n",
       "\n",
       "    .dataframe thead th {\n",
       "        text-align: right;\n",
       "    }\n",
       "</style>\n",
       "<table border=\"1\" class=\"dataframe\">\n",
       "  <thead>\n",
       "    <tr style=\"text-align: right;\">\n",
       "      <th></th>\n",
       "      <th>points</th>\n",
       "      <th>price</th>\n",
       "    </tr>\n",
       "  </thead>\n",
       "  <tbody>\n",
       "    <tr>\n",
       "      <th>points</th>\n",
       "      <td>1.000000</td>\n",
       "      <td>0.580658</td>\n",
       "    </tr>\n",
       "    <tr>\n",
       "      <th>price</th>\n",
       "      <td>0.580658</td>\n",
       "      <td>1.000000</td>\n",
       "    </tr>\n",
       "  </tbody>\n",
       "</table>\n",
       "</div>"
      ],
      "text/plain": [
       "          points     price\n",
       "points  1.000000  0.580658\n",
       "price   0.580658  1.000000"
      ]
     },
     "execution_count": 57,
     "metadata": {},
     "output_type": "execute_result"
    }
   ],
   "source": [
    "# For non-Gaussian and categorical features\n",
    "df.corr(method='spearman')"
   ]
  },
  {
   "cell_type": "code",
   "execution_count": 60,
   "metadata": {},
   "outputs": [
    {
     "data": {
      "text/html": [
       "<div>\n",
       "<style scoped>\n",
       "    .dataframe tbody tr th:only-of-type {\n",
       "        vertical-align: middle;\n",
       "    }\n",
       "\n",
       "    .dataframe tbody tr th {\n",
       "        vertical-align: top;\n",
       "    }\n",
       "\n",
       "    .dataframe thead th {\n",
       "        text-align: right;\n",
       "    }\n",
       "</style>\n",
       "<table border=\"1\" class=\"dataframe\">\n",
       "  <thead>\n",
       "    <tr style=\"text-align: right;\">\n",
       "      <th></th>\n",
       "      <th>points</th>\n",
       "      <th>price</th>\n",
       "    </tr>\n",
       "  </thead>\n",
       "  <tbody>\n",
       "    <tr>\n",
       "      <th>points</th>\n",
       "      <td>1.000000</td>\n",
       "      <td>0.433066</td>\n",
       "    </tr>\n",
       "    <tr>\n",
       "      <th>price</th>\n",
       "      <td>0.433066</td>\n",
       "      <td>1.000000</td>\n",
       "    </tr>\n",
       "  </tbody>\n",
       "</table>\n",
       "</div>"
      ],
      "text/plain": [
       "          points     price\n",
       "points  1.000000  0.433066\n",
       "price   0.433066  1.000000"
      ]
     },
     "execution_count": 60,
     "metadata": {},
     "output_type": "execute_result"
    }
   ],
   "source": [
    "# For non-Gaussian and categorical features FOR NON-cleaned data\n",
    "df.corr(method='kendall')"
   ]
  },
  {
   "cell_type": "code",
   "execution_count": 61,
   "metadata": {},
   "outputs": [
    {
     "data": {
      "text/plain": [
       "-0.3333333333333333"
      ]
     },
     "execution_count": 61,
     "metadata": {},
     "output_type": "execute_result"
    }
   ],
   "source": [
    "from sklearn.metrics import matthews_corrcoef\n",
    "\n",
    "# For boolean features (boolean is still categorical)\n",
    "x = [+1, -1, +1, +1]\n",
    "y = [+1, +1, +1, -1] \n",
    "matthews_corrcoef(x, y)"
   ]
  },
  {
   "cell_type": "code",
   "execution_count": 100,
   "metadata": {},
   "outputs": [
    {
     "name": "stdout",
     "output_type": "stream",
     "text": [
      "Пары признаков с корреляцией больше 0.3:\n",
      "    price--points: корреляция 0.41\n",
      "    points--price: корреляция 0.41\n",
      "Визуализация всех корреляций:\n"
     ]
    },
    {
     "data": {
      "image/png": "[encoded data removed]",
      "text/plain": [
       "<Figure size 1500x1000 with 2 Axes>"
      ]
     },
     "metadata": {},
     "output_type": "display_data"
    }
   ],
   "source": [
    "import pandas as pd\n",
    "import seaborn as sns\n",
    "\n",
    "df = pd.read_csv('data/wine_cleared.csv')\n",
    "\n",
    "def get_correlation(\n",
    "    df: pd.DataFrame, cols_list: str, method='pearson', \n",
    "    multicorr_edge=0.7, heatmap=False):\n",
    "    \"\"\"_summary_\n",
    "\n",
    "    Args:\n",
    "        df (pd.DataFrame): _description_\n",
    "        cols_list (str): _description_\n",
    "        method (str, optional): _description_. Defaults to 'pearson'.\n",
    "        multicorr_edge (float, optional): _description_. Defaults to 0.7.\n",
    "        heatmap (bool, optional): _description_. Defaults to False.\n",
    "\n",
    "    Returns:\n",
    "        _type_: _description_\n",
    "    \"\"\"    \n",
    "    \n",
    "    df_corr = df[cols_list].corr(method=method)\n",
    "    multicoll_cols = []\n",
    "    annot=True\n",
    "    \n",
    "    # проход по значениям таблицы\n",
    "    for col in df_corr.columns:\n",
    "        for i in range(len(df_corr)):\n",
    "            if df_corr[col][i] == 1:\n",
    "                continue\n",
    "            elif df_corr[col][i] < -multicorr_edge or df_corr[col][i] > multicorr_edge:\n",
    "                corr = round(df_corr[col][i], 2)\n",
    "                multicoll_cols.append(f'{df_corr.index[i]}--{col}: корреляция {corr}')\n",
    "\n",
    "    print(f'Пары признаков с корреляцией больше {multicorr_edge}:')\n",
    "    if multicoll_cols:\n",
    "        for corr in multicoll_cols:\n",
    "            print(f'    {corr}')\n",
    "    else:\n",
    "        print('    признаков с заданой границой КК не найдено')\n",
    "\n",
    "    # читаемость графика\n",
    "    if len(cols_list) > 15:\n",
    "        annot=False\n",
    "\n",
    "    if heatmap:\n",
    "        if len(df_corr) > 0:\n",
    "            print('Визуализация всех корреляций:')\n",
    "            return sns.heatmap(df_corr, annot=annot)\n",
    "\n",
    "\n",
    "num_cols = df.select_dtypes('number').columns\n",
    "cat_cols = [col for col in df.columns if col not in num_cols]\n",
    "\n",
    "get_correlation(df, num_cols, multicorr_edge=0.3, heatmap=True);"
   ]
  }
 ],
 "metadata": {
  "kernelspec": {
   "display_name": "base",
   "language": "python",
   "name": "python3"
  },
  "language_info": {
   "codemirror_mode": {
    "name": "ipython",
    "version": 3
   },
   "file_extension": ".py",
   "mimetype": "text/x-python",
   "name": "python",
   "nbconvert_exporter": "python",
   "pygments_lexer": "ipython3",
   "version": "3.9.15"
  },
  "orig_nbformat": 4,
  "vscode": {
   "interpreter": {
    "hash": "d2294e7ecb0fcd6fd805aaf96fa99fd1821aa453b31a5a8300db016a8fb4c516"
   }
  }
 },
 "nbformat": 4,
 "nbformat_minor": 2
}

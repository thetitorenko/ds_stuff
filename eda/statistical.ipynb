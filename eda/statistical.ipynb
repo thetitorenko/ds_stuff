{
 "cells": [
  {
   "attachments": {},
   "cell_type": "markdown",
   "metadata": {},
   "source": [
    "# Statistical tests"
   ]
  },
  {
   "attachments": {},
   "cell_type": "markdown",
   "metadata": {},
   "source": [
    "## Statistical test"
   ]
  },
  {
   "attachments": {},
   "cell_type": "markdown",
   "metadata": {},
   "source": [
    "**H0:** =   \n",
    "**H1:** <, >, !=\n",
    "\n",
    "H0 is ... | True | False\n",
    "--- | --- | ---\n",
    "Rejected | **Type I error** <br> False positive <br> P = $\\alpha$ | Correct decision <br> True positive <br> P = 1 - $\\beta$\n",
    "Not Rejected | Correct decision <br> True negative <br> P = 1 - $\\alpha$ | **Type II error** <br> False negative <br> P = $\\beta$\n",
    "\n",
    "![image](./images/Type-I-and-II-errors.jpg)\n",
    "\n",
    "$\\alpha$ = 0.05 (0.01 - 0.1, smaller more accurate)  \n",
    "$\\beta$ = 0.2\n",
    "\n",
    "If p-value < $\\alpha$: the result of test is _statistical significance_, another - _statistical non-significance_"
   ]
  },
  {
   "attachments": {},
   "cell_type": "markdown",
   "metadata": {},
   "source": [
    "Flowchart for choose a test:\n",
    "- [StatsTest.com](https://www.statstest.com/)\n",
    "- [Statsflowchart.co.uk](https://www.statsflowchart.co.uk/)"
   ]
  },
  {
   "attachments": {},
   "cell_type": "markdown",
   "metadata": {},
   "source": [
    "## Parametric test"
   ]
  },
  {
   "attachments": {},
   "cell_type": "markdown",
   "metadata": {},
   "source": [
    "Only for normal distributed data\n",
    "\n",
    "![image](./images/ParametricTestMeansFlowchart.jpg)"
   ]
  },
  {
   "attachments": {},
   "cell_type": "markdown",
   "metadata": {},
   "source": [
    "[Check destitution](./ab_tests.ipynb#normal_check)"
   ]
  },
  {
   "attachments": {},
   "cell_type": "markdown",
   "metadata": {},
   "source": [
    "## Non Parametric test"
   ]
  },
  {
   "attachments": {},
   "cell_type": "markdown",
   "metadata": {},
   "source": [
    "For normal and not distributed data\n",
    "\n",
    "![image](./images/NonParametricFlowchartMedians.jpg)"
   ]
  }
 ],
 "metadata": {
  "kernelspec": {
   "display_name": "Python 3",
   "language": "python",
   "name": "python3"
  },
  "language_info": {
   "name": "python",
   "version": "3.11.0 (main, Oct 24 2022, 18:26:48) [MSC v.1933 64 bit (AMD64)]"
  },
  "orig_nbformat": 4,
  "vscode": {
   "interpreter": {
    "hash": "0ef7447a267776da23941461c7882481031a874f2a577a1d45a6f4928fd42c96"
   }
  }
 },
 "nbformat": 4,
 "nbformat_minor": 2
}

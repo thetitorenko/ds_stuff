{
 "cells": [
  {
   "attachments": {},
   "cell_type": "markdown",
   "metadata": {},
   "source": [
    "# Statistical hypothesis and tests"
   ]
  },
  {
   "attachments": {},
   "cell_type": "markdown",
   "metadata": {},
   "source": [
    "A _statistical hypothesis_ is a statement about population parameter(s), while a _statistical test_ is a method to determine the validity of that statement. A _statistical hypothesis test_ is used to determine whether the data support the null hypothesis or the alternative hypothesis. The decision to accept or reject the null hypothesis is based on the results of the _statistical test_."
   ]
  },
  {
   "attachments": {},
   "cell_type": "markdown",
   "metadata": {},
   "source": [
    "## Hypothesis"
   ]
  },
  {
   "attachments": {},
   "cell_type": "markdown",
   "metadata": {},
   "source": [
    "**H0:** =   \n",
    "**H1:** <, >, !=\n",
    "\n",
    "H0 is ... | True | False\n",
    "--- | --- | ---\n",
    "Rejected | **Type I error** <br> False positive <br> P = $\\alpha$ | Correct decision <br> True positive <br> P = 1 - $\\beta$\n",
    "Not Rejected | Correct decision <br> True negative <br> P = 1 - $\\alpha$ | **Type II error** <br> False negative <br> P = $\\beta$\n",
    "\n",
    "![image](./images/Type-I-and-II-errors.jpg)\n",
    "\n",
    "$\\alpha$ = 0.05 (0.01 - 0.1, smaller more accurate)  \n",
    "$\\beta$ = 0.8\n",
    "\n",
    "If p-value < $\\alpha$: the result of test is _statistical significance_, another - _statistical non-significance_"
   ]
  },
  {
   "attachments": {},
   "cell_type": "markdown",
   "metadata": {},
   "source": [
    "## Tests (criterions)"
   ]
  },
  {
   "attachments": {},
   "cell_type": "markdown",
   "metadata": {},
   "source": [
    "Flowchart for choose a test:\n",
    "- [StatsTest.com](https://www.statstest.com/)\n",
    "- [Statsflowchart.co.uk](https://www.statsflowchart.co.uk/)"
   ]
  },
  {
   "attachments": {},
   "cell_type": "markdown",
   "metadata": {},
   "source": [
    "## Parametric test"
   ]
  },
  {
   "attachments": {},
   "cell_type": "markdown",
   "metadata": {},
   "source": [
    "Only for normal distributed data\n",
    "\n",
    "![image](./images/ParametricTestMeansFlowchart.jpg)"
   ]
  },
  {
   "attachments": {},
   "cell_type": "markdown",
   "metadata": {},
   "source": [
    "### <a name=\"normal_dist_test\"></a> Normal test"
   ]
  },
  {
   "cell_type": "code",
   "execution_count": 9,
   "metadata": {},
   "outputs": [
    {
     "data": {
      "text/html": [
       "<div>\n",
       "<style scoped>\n",
       "    .dataframe tbody tr th:only-of-type {\n",
       "        vertical-align: middle;\n",
       "    }\n",
       "\n",
       "    .dataframe tbody tr th {\n",
       "        vertical-align: top;\n",
       "    }\n",
       "\n",
       "    .dataframe thead th {\n",
       "        text-align: right;\n",
       "    }\n",
       "</style>\n",
       "<table border=\"1\" class=\"dataframe\">\n",
       "  <thead>\n",
       "    <tr style=\"text-align: right;\">\n",
       "      <th></th>\n",
       "      <th>Making Unit 1</th>\n",
       "      <th>Making Unit 2</th>\n",
       "    </tr>\n",
       "  </thead>\n",
       "  <tbody>\n",
       "    <tr>\n",
       "      <th>0</th>\n",
       "      <td>6.8090</td>\n",
       "      <td>6.7703</td>\n",
       "    </tr>\n",
       "    <tr>\n",
       "      <th>1</th>\n",
       "      <td>6.4376</td>\n",
       "      <td>7.5093</td>\n",
       "    </tr>\n",
       "    <tr>\n",
       "      <th>2</th>\n",
       "      <td>6.9157</td>\n",
       "      <td>6.7300</td>\n",
       "    </tr>\n",
       "    <tr>\n",
       "      <th>3</th>\n",
       "      <td>7.3012</td>\n",
       "      <td>6.7878</td>\n",
       "    </tr>\n",
       "    <tr>\n",
       "      <th>4</th>\n",
       "      <td>7.4488</td>\n",
       "      <td>7.1522</td>\n",
       "    </tr>\n",
       "  </tbody>\n",
       "</table>\n",
       "</div>"
      ],
      "text/plain": [
       "   Making Unit 1  Making Unit 2\n",
       "0         6.8090         6.7703\n",
       "1         6.4376         7.5093\n",
       "2         6.9157         6.7300\n",
       "3         7.3012         6.7878\n",
       "4         7.4488         7.1522"
      ]
     },
     "metadata": {},
     "output_type": "display_data"
    },
    {
     "name": "stdout",
     "output_type": "stream",
     "text": [
      "0.2045\n",
      "The data is distributed normally\n"
     ]
    }
   ],
   "source": [
    "# Shapiro–Wilk test\n",
    "\n",
    "import pandas as pd\n",
    "from scipy.stats import shapiro\n",
    "\n",
    "df = pd.read_csv('./data/pizzas.csv')\n",
    "display(df.head())\n",
    "alpha = 0.05\n",
    "\n",
    "_, p_value = shapiro(df)\n",
    "print(round(p_value, 4))\n",
    "\n",
    "if p_value > alpha:\n",
    "    print('The data is distributed normally')\n",
    "else:\n",
    "    print('The data is not distributed normally (we reject H0)')"
   ]
  },
  {
   "cell_type": "code",
   "execution_count": 7,
   "metadata": {},
   "outputs": [
    {
     "name": "stdout",
     "output_type": "stream",
     "text": [
      "0.2514\n",
      "The data is distributed normally\n"
     ]
    }
   ],
   "source": [
    "# D'Agostino's K^2 test\n",
    "\n",
    "import pandas as pd\n",
    "from scipy.stats import normaltest\n",
    "\n",
    "df = pd.read_csv('./data/pizzas.csv')\n",
    "alpha = 0.05\n",
    "\n",
    "_, p_value = normaltest(df)\n",
    "print(round(p_value[0], 4))\n",
    "\n",
    "if p_value[0] > alpha/2:\n",
    "    print('The data is distributed normally')\n",
    "else:\n",
    "    print('The data is not distributed normally (we reject H0)')"
   ]
  },
  {
   "attachments": {},
   "cell_type": "markdown",
   "metadata": {},
   "source": [
    "## Non Parametric test"
   ]
  },
  {
   "attachments": {},
   "cell_type": "markdown",
   "metadata": {},
   "source": [
    "For normal and not distributed data\n",
    "\n",
    "![image](./images/NonParametricFlowchartMedians.jpg)"
   ]
  }
 ],
 "metadata": {
  "kernelspec": {
   "display_name": "Python 3",
   "language": "python",
   "name": "python3"
  },
  "language_info": {
   "codemirror_mode": {
    "name": "ipython",
    "version": 3
   },
   "file_extension": ".py",
   "mimetype": "text/x-python",
   "name": "python",
   "nbconvert_exporter": "python",
   "pygments_lexer": "ipython3",
   "version": "3.11.0"
  },
  "orig_nbformat": 4,
  "vscode": {
   "interpreter": {
    "hash": "0ef7447a267776da23941461c7882481031a874f2a577a1d45a6f4928fd42c96"
   }
  }
 },
 "nbformat": 4,
 "nbformat_minor": 2
}

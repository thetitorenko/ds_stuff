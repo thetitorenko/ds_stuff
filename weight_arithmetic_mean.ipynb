{
 "cells": [
  {
   "cell_type": "code",
   "execution_count": 1,
   "metadata": {},
   "outputs": [
    {
     "name": "stdout",
     "output_type": "stream",
     "text": [
      "Mean=48.91, WAmean=48.25\n"
     ]
    },
    {
     "data": {
      "image/png": "[encoded data removed]",
      "text/plain": [
       "<Figure size 400x100 with 1 Axes>"
      ]
     },
     "metadata": {},
     "output_type": "display_data"
    }
   ],
   "source": [
    "import pandas as pd\n",
    "import random\n",
    "import matplotlib.pyplot as plt\n",
    "import seaborn as sns\n",
    "\n",
    "\n",
    "random.seed(42)\n",
    "\n",
    "df = pd.DataFrame([random.randint(1, 100) for i in range(100)], columns=['randint'])\n",
    "\n",
    "def weight_arithmetic_mean(data, col):\n",
    "    numerator, denominator = [], []\n",
    "\n",
    "    for i in range(len(data)):\n",
    "        freq = data[col].value_counts()[data[col][i]]\n",
    "        numerator.append((data[col][i] * freq))\n",
    "        denominator.append(freq)\n",
    "        \n",
    "    return sum(numerator) / sum(denominator)\n",
    "        \n",
    "print(f\"Mean={df['randint'].mean()}, WAmean={round(weight_arithmetic_mean(df, 'randint'), 2)}\")\n",
    "\n",
    "plt.figure(figsize=(4, 1))\n",
    "sns.boxplot(df['randint'], orient='h');"
   ]
  }
 ],
 "metadata": {
  "kernelspec": {
   "display_name": "base",
   "language": "python",
   "name": "python3"
  },
  "language_info": {
   "codemirror_mode": {
    "name": "ipython",
    "version": 3
   },
   "file_extension": ".py",
   "mimetype": "text/x-python",
   "name": "python",
   "nbconvert_exporter": "python",
   "pygments_lexer": "ipython3",
   "version": "3.10.9"
  },
  "orig_nbformat": 4
 },
 "nbformat": 4,
 "nbformat_minor": 2
}
